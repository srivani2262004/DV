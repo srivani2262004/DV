{
 "cells": [
  {
   "cell_type": "code",
   "execution_count": 1,
   "id": "892af0f7",
   "metadata": {
    "_cell_guid": "b1076dfc-b9ad-4769-8c92-a6c4dae69d19",
    "_uuid": "8f2839f25d086af736a60e9eeb907d3b93b6e0e5",
    "execution": {
     "iopub.execute_input": "2024-02-25T08:22:29.295662Z",
     "iopub.status.busy": "2024-02-25T08:22:29.293846Z",
     "iopub.status.idle": "2024-02-25T08:22:31.334777Z",
     "shell.execute_reply": "2024-02-25T08:22:31.333910Z"
    },
    "papermill": {
     "duration": 2.04865,
     "end_time": "2024-02-25T08:22:31.336782",
     "exception": false,
     "start_time": "2024-02-25T08:22:29.288132",
     "status": "completed"
    },
    "tags": []
   },
   "outputs": [
    {
     "name": "stdout",
     "output_type": "stream",
     "text": [
      "/kaggle/input/spotifys-long-hits-2014-2024/spotify_long_tracks_2014_2024.csv\n"
     ]
    }
   ],
   "source": [
    "import numpy as np\n",
    "import pandas as pd \n",
    "import matplotlib.pyplot as plt\n",
    "import seaborn as sns\n",
    "import os\n",
    "for dirname, _, filenames in os.walk('/kaggle/input'):\n",
    "    for filename in filenames:\n",
    "        print(os.path.join(dirname, filename))\n",
    "\n",
    "# You can write up to 20GB to the current directory (/kaggle/working/) that gets preserved as output when you create a version using \"Save & Run All\" \n",
    "# You can also write temporary files to /kaggle/temp/, but they won't be saved outside of the current session"
   ]
  },
  {
   "cell_type": "code",
   "execution_count": 2,
   "id": "6c3b5d0a",
   "metadata": {
    "execution": {
     "iopub.execute_input": "2024-02-25T08:22:31.345411Z",
     "iopub.status.busy": "2024-02-25T08:22:31.344971Z",
     "iopub.status.idle": "2024-02-25T08:22:31.365125Z",
     "shell.execute_reply": "2024-02-25T08:22:31.363869Z"
    },
    "papermill": {
     "duration": 0.027177,
     "end_time": "2024-02-25T08:22:31.367891",
     "exception": false,
     "start_time": "2024-02-25T08:22:31.340714",
     "status": "completed"
    },
    "tags": []
   },
   "outputs": [],
   "source": [
    "data = pd.read_csv(\"C:/Users/vanip/Downloads/spotify_long_tracks_2014_2024.csv\")"
   ]
  },
  {
   "cell_type": "code",
   "execution_count": 3,
   "id": "75e7bc2e",
   "metadata": {
    "execution": {
     "iopub.execute_input": "2024-02-25T08:22:31.377214Z",
     "iopub.status.busy": "2024-02-25T08:22:31.376846Z",
     "iopub.status.idle": "2024-02-25T08:22:31.393432Z",
     "shell.execute_reply": "2024-02-25T08:22:31.392229Z"
    },
    "papermill": {
     "duration": 0.026097,
     "end_time": "2024-02-25T08:22:31.397909",
     "exception": false,
     "start_time": "2024-02-25T08:22:31.371812",
     "status": "completed"
    },
    "tags": []
   },
   "outputs": [
    {
     "name": "stdout",
     "output_type": "stream",
     "text": [
      "        ID   Name  Duration (Minutes)  Artists\n",
      "0    False  False               False    False\n",
      "1    False  False               False    False\n",
      "2    False  False               False    False\n",
      "3    False  False               False    False\n",
      "4    False  False               False    False\n",
      "..     ...    ...                 ...      ...\n",
      "811  False  False               False    False\n",
      "812  False  False               False    False\n",
      "813  False  False               False    False\n",
      "814  False  False               False    False\n",
      "815  False  False               False    False\n",
      "\n",
      "[816 rows x 4 columns]\n"
     ]
    }
   ],
   "source": [
    "null_data = data.isnull()\n",
    "print(null_data)"
   ]
  },
  {
   "cell_type": "code",
   "execution_count": 4,
   "id": "0b309f5f",
   "metadata": {
    "execution": {
     "iopub.execute_input": "2024-02-25T08:22:31.407572Z",
     "iopub.status.busy": "2024-02-25T08:22:31.406881Z",
     "iopub.status.idle": "2024-02-25T08:22:31.419409Z",
     "shell.execute_reply": "2024-02-25T08:22:31.418571Z"
    },
    "papermill": {
     "duration": 0.020278,
     "end_time": "2024-02-25T08:22:31.422252",
     "exception": false,
     "start_time": "2024-02-25T08:22:31.401974",
     "status": "completed"
    },
    "tags": []
   },
   "outputs": [
    {
     "data": {
      "text/html": [
       "<div>\n",
       "<style scoped>\n",
       "    .dataframe tbody tr th:only-of-type {\n",
       "        vertical-align: middle;\n",
       "    }\n",
       "\n",
       "    .dataframe tbody tr th {\n",
       "        vertical-align: top;\n",
       "    }\n",
       "\n",
       "    .dataframe thead th {\n",
       "        text-align: right;\n",
       "    }\n",
       "</style>\n",
       "<table border=\"1\" class=\"dataframe\">\n",
       "  <thead>\n",
       "    <tr style=\"text-align: right;\">\n",
       "      <th></th>\n",
       "      <th>ID</th>\n",
       "      <th>Name</th>\n",
       "      <th>Duration (Minutes)</th>\n",
       "      <th>Artists</th>\n",
       "    </tr>\n",
       "  </thead>\n",
       "  <tbody>\n",
       "    <tr>\n",
       "      <th>0</th>\n",
       "      <td>026O2YP2wRl9h3Ht9ClZST</td>\n",
       "      <td>Steady Rain in a Forest with Light Background ...</td>\n",
       "      <td>100</td>\n",
       "      <td>Nature Sounds</td>\n",
       "    </tr>\n",
       "    <tr>\n",
       "      <th>1</th>\n",
       "      <td>0DXnjJxJBvgMvBjG6Jug7I</td>\n",
       "      <td>Soundarya Lahari</td>\n",
       "      <td>66</td>\n",
       "      <td>Mambalam Sisters</td>\n",
       "    </tr>\n",
       "    <tr>\n",
       "      <th>2</th>\n",
       "      <td>6BFn78qFy9bRqKHTMfhnNv</td>\n",
       "      <td>Waves of Abundance &amp; Fullfillment</td>\n",
       "      <td>60</td>\n",
       "      <td>Zen Life Relax</td>\n",
       "    </tr>\n",
       "    <tr>\n",
       "      <th>3</th>\n",
       "      <td>1dNwMOMtq3yflXibbqgLku</td>\n",
       "      <td>Mosquito Solution Anti Teen Street Party or Te...</td>\n",
       "      <td>45</td>\n",
       "      <td>Device Sound Effect</td>\n",
       "    </tr>\n",
       "    <tr>\n",
       "      <th>4</th>\n",
       "      <td>290gfei8moWWSh8qTVkTT3</td>\n",
       "      <td>Ibiza Sunset Tibetan Singing Bowl Sessions 7 (...</td>\n",
       "      <td>44</td>\n",
       "      <td>Tibetan Singing Bowls</td>\n",
       "    </tr>\n",
       "  </tbody>\n",
       "</table>\n",
       "</div>"
      ],
      "text/plain": [
       "                       ID                                               Name  \\\n",
       "0  026O2YP2wRl9h3Ht9ClZST  Steady Rain in a Forest with Light Background ...   \n",
       "1  0DXnjJxJBvgMvBjG6Jug7I                                   Soundarya Lahari   \n",
       "2  6BFn78qFy9bRqKHTMfhnNv                  Waves of Abundance & Fullfillment   \n",
       "3  1dNwMOMtq3yflXibbqgLku  Mosquito Solution Anti Teen Street Party or Te...   \n",
       "4  290gfei8moWWSh8qTVkTT3  Ibiza Sunset Tibetan Singing Bowl Sessions 7 (...   \n",
       "\n",
       "   Duration (Minutes)                Artists  \n",
       "0                 100          Nature Sounds  \n",
       "1                  66       Mambalam Sisters  \n",
       "2                  60         Zen Life Relax  \n",
       "3                  45    Device Sound Effect  \n",
       "4                  44  Tibetan Singing Bowls  "
      ]
     },
     "execution_count": 4,
     "metadata": {},
     "output_type": "execute_result"
    }
   ],
   "source": [
    "data.head()"
   ]
  },
  {
   "cell_type": "code",
   "execution_count": 5,
   "id": "32ef25b7",
   "metadata": {
    "execution": {
     "iopub.execute_input": "2024-02-25T08:22:31.432685Z",
     "iopub.status.busy": "2024-02-25T08:22:31.432316Z",
     "iopub.status.idle": "2024-02-25T08:22:31.978553Z",
     "shell.execute_reply": "2024-02-25T08:22:31.977653Z"
    },
    "papermill": {
     "duration": 0.554285,
     "end_time": "2024-02-25T08:22:31.981194",
     "exception": false,
     "start_time": "2024-02-25T08:22:31.426909",
     "status": "completed"
    },
    "tags": []
   },
   "outputs": [
    {
     "name": "stderr",
     "output_type": "stream",
     "text": [
      "/opt/conda/lib/python3.10/site-packages/seaborn/_oldcore.py:1119: FutureWarning: use_inf_as_na option is deprecated and will be removed in a future version. Convert inf values to NaN before operating instead.\n",
      "  with pd.option_context('mode.use_inf_as_na', True):\n"
     ]
    },
    {
     "data": {
      "image/png": "[encoded data removed]",
      "text/plain": [
       "<Figure size 250x250 with 2 Axes>"
      ]
     },
     "metadata": {},
     "output_type": "display_data"
    }
   ],
   "source": [
    "data.replace([np.inf, -np.inf], np.nan, inplace=True)\n",
    "\n",
    "\n",
    "sns.pairplot(data)\n",
    "plt.show()"
   ]
  },
  {
   "cell_type": "code",
   "execution_count": 6,
   "id": "e9dd6fd9",
   "metadata": {
    "execution": {
     "iopub.execute_input": "2024-02-25T08:22:31.991832Z",
     "iopub.status.busy": "2024-02-25T08:22:31.991481Z",
     "iopub.status.idle": "2024-02-25T08:22:31.998492Z",
     "shell.execute_reply": "2024-02-25T08:22:31.997688Z"
    },
    "papermill": {
     "duration": 0.014469,
     "end_time": "2024-02-25T08:22:32.000349",
     "exception": false,
     "start_time": "2024-02-25T08:22:31.985880",
     "status": "completed"
    },
    "tags": []
   },
   "outputs": [],
   "source": [
    "raw=data[\"Artists\"]\n",
    "#isolating the solo\n",
    "\n",
    "allArtists=[]\n",
    "solo=[]\n",
    "mostColab=[]\n",
    "typeOfArtist=[]\n",
    "numOfComma=0\n",
    "for i in raw:\n",
    "    if \",\" in i:\n",
    "        multiple=i.split(\",\")\n",
    "        allArtists.extend(multiple)\n",
    "        mostColab.extend(multiple)\n",
    "        numOfComma=i.count(\",\")+1\n",
    "        typeOfArtist.append(str(numOfComma)+\"Colab\")\n",
    "    else:\n",
    "        allArtists.append(i)\n",
    "        solo.append(i)\n",
    "        typeOfArtist.append(\"Solo\")\n",
    "#print(typeOfArtist)\n",
    "data[\"Type of Collabaration\"]=typeOfArtist"
   ]
  },
  {
   "cell_type": "code",
   "execution_count": 7,
   "id": "8ef55c8d",
   "metadata": {
    "execution": {
     "iopub.execute_input": "2024-02-25T08:22:32.010994Z",
     "iopub.status.busy": "2024-02-25T08:22:32.010669Z",
     "iopub.status.idle": "2024-02-25T08:22:32.014133Z",
     "shell.execute_reply": "2024-02-25T08:22:32.013399Z"
    },
    "papermill": {
     "duration": 0.010891,
     "end_time": "2024-02-25T08:22:32.015915",
     "exception": false,
     "start_time": "2024-02-25T08:22:32.005024",
     "status": "completed"
    },
    "tags": []
   },
   "outputs": [],
   "source": [
    "#matching_rows = data[data['Type of Collabaration'] == \"2Colab\"]\n",
    "#print(matching_rows)"
   ]
  },
  {
   "cell_type": "code",
   "execution_count": 8,
   "id": "e4bf5110",
   "metadata": {
    "execution": {
     "iopub.execute_input": "2024-02-25T08:22:32.025921Z",
     "iopub.status.busy": "2024-02-25T08:22:32.025583Z",
     "iopub.status.idle": "2024-02-25T08:22:32.037190Z",
     "shell.execute_reply": "2024-02-25T08:22:32.035744Z"
    },
    "papermill": {
     "duration": 0.019434,
     "end_time": "2024-02-25T08:22:32.039663",
     "exception": false,
     "start_time": "2024-02-25T08:22:32.020229",
     "status": "completed"
    },
    "tags": []
   },
   "outputs": [
    {
     "data": {
      "text/html": [
       "<div>\n",
       "<style scoped>\n",
       "    .dataframe tbody tr th:only-of-type {\n",
       "        vertical-align: middle;\n",
       "    }\n",
       "\n",
       "    .dataframe tbody tr th {\n",
       "        vertical-align: top;\n",
       "    }\n",
       "\n",
       "    .dataframe thead th {\n",
       "        text-align: right;\n",
       "    }\n",
       "</style>\n",
       "<table border=\"1\" class=\"dataframe\">\n",
       "  <thead>\n",
       "    <tr style=\"text-align: right;\">\n",
       "      <th></th>\n",
       "      <th>ID</th>\n",
       "      <th>Name</th>\n",
       "      <th>Duration (Minutes)</th>\n",
       "      <th>Artists</th>\n",
       "      <th>Type of Collabaration</th>\n",
       "    </tr>\n",
       "  </thead>\n",
       "  <tbody>\n",
       "    <tr>\n",
       "      <th>0</th>\n",
       "      <td>026O2YP2wRl9h3Ht9ClZST</td>\n",
       "      <td>Steady Rain in a Forest with Light Background ...</td>\n",
       "      <td>100</td>\n",
       "      <td>Nature Sounds</td>\n",
       "      <td>Solo</td>\n",
       "    </tr>\n",
       "    <tr>\n",
       "      <th>1</th>\n",
       "      <td>0DXnjJxJBvgMvBjG6Jug7I</td>\n",
       "      <td>Soundarya Lahari</td>\n",
       "      <td>66</td>\n",
       "      <td>Mambalam Sisters</td>\n",
       "      <td>Solo</td>\n",
       "    </tr>\n",
       "    <tr>\n",
       "      <th>2</th>\n",
       "      <td>6BFn78qFy9bRqKHTMfhnNv</td>\n",
       "      <td>Waves of Abundance &amp; Fullfillment</td>\n",
       "      <td>60</td>\n",
       "      <td>Zen Life Relax</td>\n",
       "      <td>Solo</td>\n",
       "    </tr>\n",
       "    <tr>\n",
       "      <th>3</th>\n",
       "      <td>1dNwMOMtq3yflXibbqgLku</td>\n",
       "      <td>Mosquito Solution Anti Teen Street Party or Te...</td>\n",
       "      <td>45</td>\n",
       "      <td>Device Sound Effect</td>\n",
       "      <td>Solo</td>\n",
       "    </tr>\n",
       "    <tr>\n",
       "      <th>4</th>\n",
       "      <td>290gfei8moWWSh8qTVkTT3</td>\n",
       "      <td>Ibiza Sunset Tibetan Singing Bowl Sessions 7 (...</td>\n",
       "      <td>44</td>\n",
       "      <td>Tibetan Singing Bowls</td>\n",
       "      <td>Solo</td>\n",
       "    </tr>\n",
       "  </tbody>\n",
       "</table>\n",
       "</div>"
      ],
      "text/plain": [
       "                       ID                                               Name  \\\n",
       "0  026O2YP2wRl9h3Ht9ClZST  Steady Rain in a Forest with Light Background ...   \n",
       "1  0DXnjJxJBvgMvBjG6Jug7I                                   Soundarya Lahari   \n",
       "2  6BFn78qFy9bRqKHTMfhnNv                  Waves of Abundance & Fullfillment   \n",
       "3  1dNwMOMtq3yflXibbqgLku  Mosquito Solution Anti Teen Street Party or Te...   \n",
       "4  290gfei8moWWSh8qTVkTT3  Ibiza Sunset Tibetan Singing Bowl Sessions 7 (...   \n",
       "\n",
       "   Duration (Minutes)                Artists Type of Collabaration  \n",
       "0                 100          Nature Sounds                  Solo  \n",
       "1                  66       Mambalam Sisters                  Solo  \n",
       "2                  60         Zen Life Relax                  Solo  \n",
       "3                  45    Device Sound Effect                  Solo  \n",
       "4                  44  Tibetan Singing Bowls                  Solo  "
      ]
     },
     "execution_count": 8,
     "metadata": {},
     "output_type": "execute_result"
    }
   ],
   "source": [
    "data.head()"
   ]
  },
  {
   "cell_type": "markdown",
   "id": "e0ee5c58",
   "metadata": {
    "papermill": {
     "duration": 0.004204,
     "end_time": "2024-02-25T08:22:32.048868",
     "exception": false,
     "start_time": "2024-02-25T08:22:32.044664",
     "status": "completed"
    },
    "tags": []
   },
   "source": [
    "**The below Plot describes the number of songs by each type of collaborations. \"Solo\" songs top the list with close to 600 songs. **"
   ]
  },
  {
   "cell_type": "code",
   "execution_count": 9,
   "id": "99b43664",
   "metadata": {
    "execution": {
     "iopub.execute_input": "2024-02-25T08:22:32.060118Z",
     "iopub.status.busy": "2024-02-25T08:22:32.059516Z",
     "iopub.status.idle": "2024-02-25T08:22:32.251263Z",
     "shell.execute_reply": "2024-02-25T08:22:32.250260Z"
    },
    "papermill": {
     "duration": 0.199889,
     "end_time": "2024-02-25T08:22:32.253458",
     "exception": false,
     "start_time": "2024-02-25T08:22:32.053569",
     "status": "completed"
    },
    "tags": []
   },
   "outputs": [
    {
     "data": {
      "text/plain": [
       "<Axes: xlabel='Type of Collabaration', ylabel='count'>"
      ]
     },
     "execution_count": 9,
     "metadata": {},
     "output_type": "execute_result"
    },
    {
     "data": {
      "image/png": "[encoded data removed]",
      "text/plain": [
       "<Figure size 640x480 with 1 Axes>"
      ]
     },
     "metadata": {},
     "output_type": "display_data"
    }
   ],
   "source": [
    "sns.countplot(x=\"Type of Collabaration\",data=data)"
   ]
  },
  {
   "cell_type": "markdown",
   "id": "6a4a13ad",
   "metadata": {
    "papermill": {
     "duration": 0.004472,
     "end_time": "2024-02-25T08:22:32.263084",
     "exception": false,
     "start_time": "2024-02-25T08:22:32.258612",
     "status": "completed"
    },
    "tags": []
   },
   "source": [
    "**The Avg or mean of the length of song with three artist colaborating is the highest.**"
   ]
  },
  {
   "cell_type": "code",
   "execution_count": 10,
   "id": "9ed0ac13",
   "metadata": {
    "execution": {
     "iopub.execute_input": "2024-02-25T08:22:32.275908Z",
     "iopub.status.busy": "2024-02-25T08:22:32.274324Z",
     "iopub.status.idle": "2024-02-25T08:22:32.568309Z",
     "shell.execute_reply": "2024-02-25T08:22:32.567163Z"
    },
    "papermill": {
     "duration": 0.302609,
     "end_time": "2024-02-25T08:22:32.570616",
     "exception": false,
     "start_time": "2024-02-25T08:22:32.268007",
     "status": "completed"
    },
    "tags": []
   },
   "outputs": [
    {
     "data": {
      "text/plain": [
       "<Axes: xlabel='Type of Collabaration', ylabel='Duration (Minutes)'>"
      ]
     },
     "execution_count": 10,
     "metadata": {},
     "output_type": "execute_result"
    },
    {
     "data": {
      "image/png": "[encoded data removed]",
      "text/plain": [
       "<Figure size 640x480 with 1 Axes>"
      ]
     },
     "metadata": {},
     "output_type": "display_data"
    }
   ],
   "source": [
    "sns.barplot(y=\"Duration (Minutes)\",x=\"Type of Collabaration\",data=data,estimator=np.mean)"
   ]
  },
  {
   "cell_type": "code",
   "execution_count": 11,
   "id": "c2609b18",
   "metadata": {
    "execution": {
     "iopub.execute_input": "2024-02-25T08:22:32.583096Z",
     "iopub.status.busy": "2024-02-25T08:22:32.582466Z",
     "iopub.status.idle": "2024-02-25T08:22:32.999122Z",
     "shell.execute_reply": "2024-02-25T08:22:32.997641Z"
    },
    "papermill": {
     "duration": 0.426495,
     "end_time": "2024-02-25T08:22:33.002391",
     "exception": false,
     "start_time": "2024-02-25T08:22:32.575896",
     "status": "completed"
    },
    "tags": []
   },
   "outputs": [
    {
     "data": {
      "text/plain": [
       "<Axes: xlabel='Type of Collabaration', ylabel='Duration (Minutes)'>"
      ]
     },
     "execution_count": 11,
     "metadata": {},
     "output_type": "execute_result"
    },
    {
     "data": {
      "image/png": "[encoded data removed]",
      "text/plain": [
       "<Figure size 640x480 with 1 Axes>"
      ]
     },
     "metadata": {},
     "output_type": "display_data"
    }
   ],
   "source": [
    "sns.barplot(y=\"Duration (Minutes)\",x=\"Type of Collabaration\",data=data,estimator=np.std)"
   ]
  },
  {
   "cell_type": "code",
   "execution_count": 12,
   "id": "8356cb2c",
   "metadata": {
    "execution": {
     "iopub.execute_input": "2024-02-25T08:22:33.016802Z",
     "iopub.status.busy": "2024-02-25T08:22:33.016296Z",
     "iopub.status.idle": "2024-02-25T08:22:33.023391Z",
     "shell.execute_reply": "2024-02-25T08:22:33.021804Z"
    },
    "papermill": {
     "duration": 0.016807,
     "end_time": "2024-02-25T08:22:33.025704",
     "exception": false,
     "start_time": "2024-02-25T08:22:33.008897",
     "status": "completed"
    },
    "tags": []
   },
   "outputs": [
    {
     "name": "stdout",
     "output_type": "stream",
     "text": [
      "1192\n",
      "1169\n"
     ]
    }
   ],
   "source": [
    "print(len(allArtists))\n",
    "print(len(set(allArtists)))"
   ]
  }
 ],
 "metadata": {
  "kaggle": {
   "accelerator": "none",
   "dataSources": [
    {
     "datasetId": 4484522,
     "sourceId": 7685397,
     "sourceType": "datasetVersion"
    }
   ],
   "dockerImageVersionId": 30646,
   "isGpuEnabled": false,
   "isInternetEnabled": false,
   "language": "python",
   "sourceType": "notebook"
  },
  "kernelspec": {
   "display_name": "Python 3",
   "language": "python",
   "name": "python3"
  },
  "language_info": {
   "codemirror_mode": {
    "name": "ipython",
    "version": 3
   },
   "file_extension": ".py",
   "mimetype": "text/x-python",
   "name": "python",
   "nbconvert_exporter": "python",
   "pygments_lexer": "ipython3",
   "version": "3.10.13"
  },
  "papermill": {
   "default_parameters": {},
   "duration": 7.104395,
   "end_time": "2024-02-25T08:22:33.855593",
   "environment_variables": {},
   "exception": null,
   "input_path": "__notebook__.ipynb",
   "output_path": "__notebook__.ipynb",
   "parameters": {},
   "start_time": "2024-02-25T08:22:26.751198",
   "version": "2.5.0"
  }
 },
 "nbformat": 4,
 "nbformat_minor": 5
}
